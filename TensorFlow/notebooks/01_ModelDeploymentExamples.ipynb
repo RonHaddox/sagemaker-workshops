{
 "cells": [
  {
   "cell_type": "code",
   "execution_count": null,
   "metadata": {},
   "outputs": [],
   "source": [
    "import sagemaker\n",
    "from sagemaker import get_execution_role\n",
    "from sagemaker.tuner import HyperparameterTuner\n",
    "from sagemaker.sklearn.estimator import SKLearn\n",
    "# S3 prefix\n",
    "\n",
    "hpo_training_job = 'ENTER_HPO_JOBNAME_HERE'\n",
    "\n",
    "assert(hpo_training_job != 'ENTER_HPO_JOBNAME_HERE')\n",
    "\n",
    "sagemaker_session = sagemaker.Session()\n",
    "\n",
    "tuner = HyperparameterTuner.attach(hpo_training_job, sagemaker_session=sagemaker_session)\n",
    "\n",
    "tuner.wait()"
   ]
  },
  {
   "cell_type": "code",
   "execution_count": null,
   "metadata": {},
   "outputs": [],
   "source": [
    "import pandas as pd\n",
    "\n",
    "tuner_analysis = sagemaker.HyperparameterTuningJobAnalytics(tuner.latest_tuning_job.name)\n",
    "full_df = tuner_analysis.dataframe()\n",
    "\n",
    "full_df[['FinalObjectiveValue', 'batch_size', 'num_examples_per_epoch', 'TrainingJobName']]"
   ]
  },
  {
   "cell_type": "code",
   "execution_count": null,
   "metadata": {},
   "outputs": [],
   "source": [
    "from sagemaker.tensorflow.estimator import TensorFlow\n",
    "tensorflow_estimator = TensorFlow.attach('sagemaker-tensorflow-190116-1509-003-5811112b', sagemaker_session)\n",
    "model = tensorflow_estimator.create_model()"
   ]
  },
  {
   "cell_type": "code",
   "execution_count": null,
   "metadata": {},
   "outputs": [],
   "source": [
    "models = []\n",
    "for index, row in full_df.iterrows():\n",
    "    tensorflow_estimator = TensorFlow.attach(row['TrainingJobName'], sagemaker_session)\n",
    "    model = tensorflow_estimator.create_model()\n",
    "    model._create_sagemaker_model(instance_type='ml.m4.xlarge')\n",
    "    models.append(model)"
   ]
  },
  {
   "cell_type": "code",
   "execution_count": null,
   "metadata": {},
   "outputs": [],
   "source": [
    "productionVariants = []\n",
    "\n",
    "for model_job in models:\n",
    "    m = {}\n",
    "    m['VariantName'] = model_job.name\n",
    "    m['ModelName'] = model_job.name\n",
    "    m['InitialInstanceCount'] = 1\n",
    "    m['InstanceType'] = 'ml.m4.2xlarge'\n",
    "    productionVariants.append(m)\n",
    "\n",
    "    \n",
    "endpointname = hpo_training_job + \"-endpoint\"\n",
    "import boto3\n",
    "client = boto3.client('sagemaker')\n",
    "endpoint_config_resp = client.create_endpoint_config(EndpointConfigName=endpointname,\n",
    "                                                    ProductionVariants= productionVariants)\n",
    "\n",
    "print(endpoint_config_resp)\n",
    "\n",
    "response = client.create_endpoint(\n",
    "    EndpointName=endpointname,\n",
    "    EndpointConfigName=endpointname\n",
    ")\n",
    "\n",
    "print(response)"
   ]
  },
  {
   "cell_type": "code",
   "execution_count": null,
   "metadata": {},
   "outputs": [],
   "source": []
  }
 ],
 "metadata": {
  "kernelspec": {
   "display_name": "conda_tensorflow_p27",
   "language": "python",
   "name": "conda_tensorflow_p27"
  },
  "language_info": {
   "codemirror_mode": {
    "name": "ipython",
    "version": 2
   },
   "file_extension": ".py",
   "mimetype": "text/x-python",
   "name": "python",
   "nbconvert_exporter": "python",
   "pygments_lexer": "ipython2",
   "version": "2.7.15"
  }
 },
 "nbformat": 4,
 "nbformat_minor": 2
}
