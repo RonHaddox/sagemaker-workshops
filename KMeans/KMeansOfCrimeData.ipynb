{
 "cells": [
  {
   "cell_type": "code",
   "execution_count": null,
   "metadata": {},
   "outputs": [],
   "source": [
    "bucket = 'YOURBUCKETFROMLAB1' #BUCKET BUCKET LAB1 --> should not start with s3://, just the name\n",
    "data_location = \"sagemakerwalkerml\""
   ]
  },
  {
   "cell_type": "code",
   "execution_count": null,
   "metadata": {},
   "outputs": [],
   "source": [
    "import pandas as pd\n",
    "import numpy as np\n",
    "import matplotlib.pyplot as plt\n",
    "crime = pd.read_csv('s3://sagemaker-workshop/2018-08-30/crimes.csv', header=0, \n",
    "                    names=['State', 'crime', 'Murder', 'Assault', 'UrbanPop', 'Rape'])\n",
    "density = pd.read_csv('s3://sagemaker-workshop/2018-08-30/Densities.csv')\n",
    "print(crime.head())\n",
    "print('----------------------------------------------------------------')\n",
    "print(density.head())\n",
    "\n"
   ]
  },
  {
   "cell_type": "code",
   "execution_count": null,
   "metadata": {},
   "outputs": [],
   "source": [
    "density['DensityPerMileScaled'] = density['DensityPerMile'].map(lambda x: \n",
    "                                                                float(x.replace(',', '')))\n",
    "density['DensityPerMileScaled'] = np.interp(density['DensityPerMileScaled'], \n",
    "                                            (density['DensityPerMileScaled'].min(), \n",
    "                                             density['DensityPerMileScaled'].max()), (-1, +1))\n",
    "print(density.head())"
   ]
  },
  {
   "cell_type": "code",
   "execution_count": null,
   "metadata": {},
   "outputs": [],
   "source": [
    "joinedData = crime.merge(density, on='State', how='inner')\n",
    "print(joinedData.dtypes)\n",
    "print(joinedData.head())\n"
   ]
  },
  {
   "cell_type": "code",
   "execution_count": null,
   "metadata": {},
   "outputs": [],
   "source": [
    "crimeArray = joinedData[['Murder', 'Assault', 'UrbanPop', 'Rape', 'DensityPerMileScaled']].as_matrix().astype(np.float32)\n",
    "print(crimeArray.shape)\n",
    "print(crimeArray)"
   ]
  },
  {
   "cell_type": "code",
   "execution_count": null,
   "metadata": {},
   "outputs": [],
   "source": [
    "## FREE CELL TO PRINT/INVESTIGATE ANY VARIABLES YOU'D LIKE..."
   ]
  },
  {
   "cell_type": "code",
   "execution_count": null,
   "metadata": {
    "scrolled": false
   },
   "outputs": [],
   "source": [
    "from sagemaker import KMeans\n",
    "from sagemaker import get_execution_role\n",
    "\n",
    "CLUSTER_COUNT = 10\n",
    "role = get_execution_role()\n",
    "print(role)\n",
    "\n",
    "data_location = 's3://{}/kmeans_highlevel_example/data'.format(bucket)\n",
    "output_location = 's3://{}/kmeans_example/output'.format(bucket)\n",
    "\n",
    "print('training data will be uploaded to: {}'.format(data_location))\n",
    "print('training artifacts will be uploaded to: {}'.format(output_location))\n",
    "\n",
    "kmeans = KMeans(role=role,\n",
    "                train_instance_count=1,\n",
    "                train_instance_type='ml.c4.8xlarge',\n",
    "                output_path=output_location,\n",
    "                k=CLUSTER_COUNT,\n",
    "                data_location=data_location)"
   ]
  },
  {
   "cell_type": "code",
   "execution_count": null,
   "metadata": {},
   "outputs": [],
   "source": [
    "slice=crimeArray[:,1:5]\n",
    "print(slice)\n",
    "print(crimeArray)"
   ]
  },
  {
   "cell_type": "code",
   "execution_count": null,
   "metadata": {
    "scrolled": true
   },
   "outputs": [],
   "source": [
    "%%time\n",
    "kmeans.fit(kmeans.record_set(crimeArray)) "
   ]
  },
  {
   "cell_type": "code",
   "execution_count": null,
   "metadata": {},
   "outputs": [],
   "source": [
    "%%time\n",
    "\n",
    "kmeans_predictor = kmeans.deploy(initial_instance_count=1,\n",
    "                                 instance_type='ml.m4.xlarge')"
   ]
  },
  {
   "cell_type": "code",
   "execution_count": null,
   "metadata": {},
   "outputs": [],
   "source": [
    "%%time\n",
    "\n",
    "result = kmeans_predictor.predict(crimeArray)\n",
    "clusters = [r.label['closest_cluster'].float32_tensor.values[0] for r in result]\n",
    "i = 0\n",
    " \n",
    "resultList = []\n",
    "for r in result:\n",
    "    out ={ \n",
    "      \"StateCode\" : crime['State'].iloc[i],  \n",
    "      \"ClusterGroup\" :  r.label['closest_cluster'].float32_tensor.values[0],\n",
    "      \"distance_to_cluster\" :  r.label['distance_to_cluster'].float32_tensor.values[0],\n",
    "      \"Murder\" :  crime['Murder'].iloc[i],  \n",
    "      \"Assault\" : crime['Assault'].iloc[i], \n",
    "      \"UrbanPop\" : crime['UrbanPop'].iloc[i],  \n",
    "      \"Rape\" :  crime['Rape'].iloc[i],\n",
    "      \"Density\" :  density['DensityPerMile'].iloc[i]\n",
    "    }\n",
    "    print(out) \n",
    "    resultList.append(out)\n",
    "    i = i + 1"
   ]
  },
  {
   "cell_type": "code",
   "execution_count": null,
   "metadata": {},
   "outputs": [],
   "source": [
    "df = pd.DataFrame(resultList)\n",
    "df = df.sort_values(['ClusterGroup', 'distance_to_cluster'])\n",
    "df"
   ]
  },
  {
   "cell_type": "code",
   "execution_count": null,
   "metadata": {},
   "outputs": [],
   "source": [
    "df.groupby(['ClusterGroup']).size().plot.bar(x='ClusterGroup', rot=0)"
   ]
  },
  {
   "cell_type": "code",
   "execution_count": null,
   "metadata": {},
   "outputs": [],
   "source": []
  }
 ],
 "metadata": {
  "kernelspec": {
   "display_name": "conda_python3",
   "language": "python",
   "name": "conda_python3"
  },
  "language_info": {
   "codemirror_mode": {
    "name": "ipython",
    "version": 3
   },
   "file_extension": ".py",
   "mimetype": "text/x-python",
   "name": "python",
   "nbconvert_exporter": "python",
   "pygments_lexer": "ipython3",
   "version": "3.6.5"
  }
 },
 "nbformat": 4,
 "nbformat_minor": 2
}
