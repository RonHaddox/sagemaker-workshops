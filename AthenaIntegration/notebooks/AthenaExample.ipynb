{
 "cells": [
  {
   "cell_type": "markdown",
   "metadata": {},
   "source": [
    "NOTE: The SageMaker Notebook must have permissions to the Glue Data Catalog and Athena service to perform these functions"
   ]
  },
  {
   "cell_type": "code",
   "execution_count": null,
   "metadata": {},
   "outputs": [],
   "source": [
    "print('installing the PyAthena Drivers to perform SQL queries natively')\n",
    "print('alternatives include using the boto3 libraries or other Athena Data APIs')\n",
    "!pip install --upgrade pip > /dev/null\n",
    "!pip install PyAthena > /dev/null"
   ]
  },
  {
   "cell_type": "code",
   "execution_count": null,
   "metadata": {},
   "outputs": [],
   "source": [
    "import sagemaker\n",
    "sagemaker_session = sagemaker.Session()\n",
    "athena_data_bucket = sagemaker_session.default_bucket()\n",
    "print('using the athena data bucket:', athena_data_bucket)\n",
    "print('running in region: ', sagemaker_session.boto_region_name)"
   ]
  },
  {
   "cell_type": "code",
   "execution_count": null,
   "metadata": {},
   "outputs": [],
   "source": [
    "from pyathena import connect\n",
    "import pandas as pd\n",
    "\n",
    "sagemaker_session = sagemaker.Session()\n",
    "\n",
    "conn = connect(s3_staging_dir=\"s3://\" + athena_data_bucket,\n",
    "               region_name=sagemaker_session.boto_region_name)\n"
   ]
  },
  {
   "cell_type": "markdown",
   "metadata": {},
   "source": [
    "NOTE: A better way of creating these tables is either through the Glue/LakeFormation APIs or through the crawlers.  We are doing it this way to make this self contained and to show the option."
   ]
  },
  {
   "cell_type": "code",
   "execution_count": null,
   "metadata": {},
   "outputs": [],
   "source": [
    "cursor = conn.cursor()\n",
    "cursor.execute(\"CREATE EXTERNAL TABLE IF NOT EXISTS default.flight_delays_pq ( \" +\n",
    "\"    yr INT, \" +\n",
    "\"    quarter INT, \" +\n",
    "\"    month INT, \" +\n",
    "\"    dayofmonth INT, \" +\n",
    "\"    dayofweek INT, \" +\n",
    "\"    flightdate STRING, \" +\n",
    "\"    uniquecarrier STRING, \" +\n",
    "\"    airlineid INT, \" +\n",
    "\"    carrier STRING, \" +\n",
    "\"    tailnum STRING, \" +\n",
    "\"    flightnum STRING, \" +\n",
    "\"    originairportid INT, \" +\n",
    "\"    originairportseqid INT, \" +\n",
    "\"    origincitymarketid INT, \" +\n",
    "\"    origin STRING, \" +\n",
    "\"    origincityname STRING, \" +\n",
    "\"    originstate STRING, \" +\n",
    "\"    originstatefips STRING, \" +\n",
    "\"    originstatename STRING, \" +\n",
    "\"    originwac INT, \" +\n",
    "\"    destairportid INT, \" +\n",
    "\"    destairportseqid INT, \" +\n",
    "\"    destcitymarketid INT, \" +\n",
    "\"    dest STRING, \" +\n",
    "\"    destcityname STRING, \" +\n",
    "\"    deststate STRING, \" +\n",
    "\"    deststatefips STRING, \" +\n",
    "\"    deststatename STRING, \" +\n",
    "\"    destwac INT, \" +\n",
    "\"    crsdeptime STRING, \" +\n",
    "\"    deptime STRING, \" +\n",
    "\"    depdelay INT, \" +\n",
    "\"    depdelayminutes INT, \" +\n",
    "\"    depdel15 INT, \" +\n",
    "\"    departuredelaygroups INT, \" +\n",
    "\"    deptimeblk STRING, \" +\n",
    "\"    taxiout INT, \" +\n",
    "\"    wheelsoff STRING, \" +\n",
    "\"    wheelson STRING, \" +\n",
    "\"    taxiin INT, \" +\n",
    "\"    crsarrtime INT, \" +\n",
    "\"    arrtime STRING, \" +\n",
    "\"    arrdelay INT, \" +\n",
    "\"    arrdelayminutes INT, \" +\n",
    "\"    arrdel15 INT, \" +\n",
    "\"    arrivaldelaygroups INT, \" +\n",
    "\"    arrtimeblk STRING, \" +\n",
    "\"    cancelled INT, \" +\n",
    "\"    cancellationcode STRING, \" +\n",
    "\"    diverted INT, \" +\n",
    "\"    crselapsedtime INT, \" +\n",
    "\"    actualelapsedtime INT, \" +\n",
    "\"    airtime INT, \" +\n",
    "\"    flights INT, \" +\n",
    "\"    distance INT, \" +\n",
    "\"    distancegroup INT, \" +\n",
    "\"    carrierdelay INT, \" +\n",
    "\"    weatherdelay INT, \" +\n",
    "\"    nasdelay INT, \" +\n",
    "\"    securitydelay INT, \" +\n",
    "\"    lateaircraftdelay INT, \" +\n",
    "\"    firstdeptime STRING, \" +\n",
    "\"    totaladdgtime INT, \" +\n",
    "\"    longestaddgtime INT, \" +\n",
    "\"    divairportlandings INT, \" +\n",
    "\"    divreacheddest INT, \" +\n",
    "\"    divactualelapsedtime INT, \" +\n",
    "\"    divarrdelay INT, \" +\n",
    "\"    divdistance INT, \" +\n",
    "\"    div1airport STRING, \" +\n",
    "\"    div1airportid INT, \" +\n",
    "\"    div1airportseqid INT, \" +\n",
    "\"    div1wheelson STRING, \" +\n",
    "\"    div1totalgtime INT, \" +\n",
    "\"    div1longestgtime INT, \" +\n",
    "\"    div1wheelsoff STRING, \" +\n",
    "\"    div1tailnum STRING, \" +\n",
    "\"    div2airport STRING, \" +\n",
    "\"    div2airportid INT, \" +\n",
    "\"    div2airportseqid INT, \" +\n",
    "\"    div2wheelson STRING, \" +\n",
    "\"    div2totalgtime INT, \" +\n",
    "\"    div2longestgtime INT, \" +\n",
    "\"    div2wheelsoff STRING, \" +\n",
    "\"    div2tailnum STRING, \" +\n",
    "\"    div3airport STRING, \" +\n",
    "\"    div3airportid INT, \" +\n",
    "\"    div3airportseqid INT, \" +\n",
    "\"    div3wheelson STRING, \" +\n",
    "\"    div3totalgtime INT, \" +\n",
    "\"    div3longestgtime INT, \" +\n",
    "\"    div3wheelsoff STRING, \" +\n",
    "\"    div3tailnum STRING, \" +\n",
    "\"    div4airport STRING, \" +\n",
    "\"    div4airportid INT, \" +\n",
    "\"    div4airportseqid INT, \" +\n",
    "\"    div4wheelson STRING, \" +\n",
    "\"    div4totalgtime INT, \" +\n",
    "\"    div4longestgtime INT, \" +\n",
    "\"    div4wheelsoff STRING, \" +\n",
    "\"    div4tailnum STRING, \" +\n",
    "\"    div5airport STRING, \" +\n",
    "\"    div5airportid INT, \" +\n",
    "\"    div5airportseqid INT, \" +\n",
    "\"    div5wheelson STRING, \" +\n",
    "\"    div5totalgtime INT, \" +\n",
    "\"    div5longestgtime INT, \" +\n",
    "\"    div5wheelsoff STRING, \" +\n",
    "\"    div5tailnum STRING \" +\n",
    "\") \" +\n",
    "\"PARTITIONED BY (year STRING) \" +\n",
    "\"STORED AS PARQUET \" +\n",
    "\"LOCATION 's3://athena-examples-\" + sagemaker_session.boto_region_name + \"/flight/parquet/' \" +\n",
    "\"tblproperties ('parquet.compress'='SNAPPY')\")\n",
    "print(cursor.fetchall())"
   ]
  },
  {
   "cell_type": "code",
   "execution_count": null,
   "metadata": {},
   "outputs": [],
   "source": [
    "cursor = conn.cursor()\n",
    "cursor.execute(\"MSCK REPAIR TABLE default.flight_delays_pq\")\n",
    "print(cursor.fetchall())"
   ]
  },
  {
   "cell_type": "code",
   "execution_count": null,
   "metadata": {},
   "outputs": [],
   "source": [
    "df = pd.read_sql(\" SELECT origin, dest, count(*) as delays \" +\n",
    "\" FROM flight_delays_pq \" +\n",
    "\" GROUP BY origin, dest \", conn)\n",
    "df"
   ]
  },
  {
   "cell_type": "code",
   "execution_count": null,
   "metadata": {
    "scrolled": false
   },
   "outputs": [],
   "source": [
    "import numpy as np; np.random.seed(0)\n",
    "import seaborn as sns; sns.set()\n",
    "import matplotlib.pyplot as plt\n",
    "\n",
    "\n",
    "sns.set(rc={'figure.figsize':(11.7,8.27)})\n",
    "\n",
    "result = df.pivot(index='origin', columns='dest', values='delays')\n",
    "with sns.axes_style(\"white\"):\n",
    "    sns.heatmap(result, cmap=\"Reds\")\n",
    "plt.show()"
   ]
  },
  {
   "cell_type": "code",
   "execution_count": null,
   "metadata": {},
   "outputs": [],
   "source": []
  }
 ],
 "metadata": {
  "kernelspec": {
   "display_name": "conda_python3",
   "language": "python",
   "name": "conda_python3"
  },
  "language_info": {
   "codemirror_mode": {
    "name": "ipython",
    "version": 3
   },
   "file_extension": ".py",
   "mimetype": "text/x-python",
   "name": "python",
   "nbconvert_exporter": "python",
   "pygments_lexer": "ipython3",
   "version": "3.6.5"
  }
 },
 "nbformat": 4,
 "nbformat_minor": 2
}
